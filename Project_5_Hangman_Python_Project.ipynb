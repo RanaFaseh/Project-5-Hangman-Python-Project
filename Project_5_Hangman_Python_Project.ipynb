{
  "nbformat": 4,
  "nbformat_minor": 0,
  "metadata": {
    "colab": {
      "provenance": [],
      "authorship_tag": "ABX9TyNV/mYFX6H8DUu/NfclaLA0",
      "include_colab_link": true
    },
    "kernelspec": {
      "name": "python3",
      "display_name": "Python 3"
    },
    "language_info": {
      "name": "python"
    }
  },
  "cells": [
    {
      "cell_type": "markdown",
      "metadata": {
        "id": "view-in-github",
        "colab_type": "text"
      },
      "source": [
        "<a href=\"https://colab.research.google.com/github/RanaFaseh/Project-5-Hangman-Python-Project/blob/main/Project_5_Hangman_Python_Project.ipynb\" target=\"_parent\"><img src=\"https://colab.research.google.com/assets/colab-badge.svg\" alt=\"Open In Colab\"/></a>"
      ]
    },
    {
      "cell_type": "code",
      "source": [
        "import random\n",
        "\n",
        "def hangman():\n",
        "    words = [\"apple\", \"grape\", \"lemon\", \"mango\", \"melon\"]\n",
        "    word = random.choice(words)\n",
        "    word_letters = set(word)  # letters in the word\n",
        "    alphabet = set(chr(x) for x in range(ord('a'), ord('z') + 1))\n",
        "    used_letters = set()  # what the user has guessed\n",
        "\n",
        "    lives = 6\n",
        "\n",
        "    # getting user input\n",
        "    while len(word_letters) > 0 and lives > 0:\n",
        "        # letters used\n",
        "        # ' '.join(['a', 'b', 'cd']) --> 'a b cd'\n",
        "        print('You have', lives, 'lives left and you have used these letters: ', ' '.join(used_letters))\n",
        "\n",
        "        # current word (ie. p - p l e)\n",
        "        word_list = [letter if letter in used_letters else '-' for letter in word]\n",
        "        print('Current word: ', ' '.join(word_list))\n",
        "\n",
        "        user_letter = input('Guess a letter: ').lower()\n",
        "        if user_letter in alphabet - used_letters:\n",
        "            used_letters.add(user_letter)\n",
        "            if user_letter in word_letters:\n",
        "                word_letters.remove(user_letter)\n",
        "                print('')\n",
        "\n",
        "            else:\n",
        "                lives = lives - 1  # takes away a life if wrong\n",
        "                print('Letter is not in word.')\n",
        "\n",
        "        elif user_letter in used_letters:\n",
        "            print('You have already used that character. Please try again.')\n",
        "\n",
        "        else:\n",
        "            print('Invalid character. Please try again.')\n",
        "\n",
        "    # gets here when len(word_letters) == 0 OR lives == 0\n",
        "    if lives == 0:\n",
        "        print('You died, sorry. The word was', word)\n",
        "    else:\n",
        "        print('You guessed the word', word, '!!')\n",
        "\n",
        "hangman()\n"
      ],
      "metadata": {
        "colab": {
          "base_uri": "https://localhost:8080/"
        },
        "id": "F731uhUchE3y",
        "outputId": "c6fa65c7-5112-402c-f95e-877f1f648027"
      },
      "execution_count": 2,
      "outputs": [
        {
          "output_type": "stream",
          "name": "stdout",
          "text": [
            "You have 6 lives left and you have used these letters:  \n",
            "Current word:  - - - - -\n",
            "Guess a letter: g\n",
            "\n",
            "You have 6 lives left and you have used these letters:  g\n",
            "Current word:  g - - - -\n",
            "Guess a letter: r\n",
            "\n",
            "You have 6 lives left and you have used these letters:  r g\n",
            "Current word:  g r - - -\n",
            "Guess a letter: a\n",
            "\n",
            "You have 6 lives left and you have used these letters:  r g a\n",
            "Current word:  g r a - -\n",
            "Guess a letter: p\n",
            "\n",
            "You have 6 lives left and you have used these letters:  r p g a\n",
            "Current word:  g r a p -\n",
            "Guess a letter: e\n",
            "\n",
            "You guessed the word grape !!\n"
          ]
        }
      ]
    }
  ]
}